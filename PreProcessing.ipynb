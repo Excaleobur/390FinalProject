{
 "cells": [
  {
   "attachments": {},
   "cell_type": "markdown",
   "metadata": {},
   "source": [
    "# Moving Average Filter\n",
    "A moving average filter is a commonly used digital signal processing technique for smoothing out noisy data or reducing fluctuations in a time series. The filter works by calculating the average value of a series of data points over a sliding window of a fixed size.\n",
    "\n",
    "For example, a 3-point moving average filter would take the average of the current data point and its two neighboring points to generate a new value. As the window slides along the data series, each point is replaced with its moving average value.\n",
    "\n",
    "Moving average filters can be used to reduce noise in a signal, eliminate high-frequency variations, and highlight trends and patterns in the data"
   ]
  },
  {
   "cell_type": "code",
   "execution_count": null,
   "metadata": {},
   "outputs": [],
   "source": [
    "import pandas as pd\n",
    "\n",
    "jump = pd.read_csv('allJump.csv')\n",
    "walk = pd.read_csv('allWalk.csv')\n",
    "both = pd.read_csv('datasetOverall.csv')\n",
    "\n",
    "#Getting rid of last 2 columns for dataset\n",
    "jump = pd.read_csv('allJump.csv')\n",
    "jump = jump.iloc[:, :-2]\n",
    "walk = pd.read_csv('allWalk.csv')\n",
    "walk = walk.iloc[:, :-2]\n",
    "both = pd.read_csv('datasetOverall.csv')\n",
    "both = both.iloc[:, :-2]\n",
    "\n",
    "#renaming the columns in the dataset so it is easier to call - column names (time, x,y,z,abs) are the same for all datasets\n",
    "jump = jump.rename(columns={\"Time (s)\" : \"time\", \"Linear Acceleration x (m/s^2)\" : \"x\", \n",
    "                     \"Linear Acceleration y (m/s^2)\" : \"y\", \"Linear Acceleration z (m/s^2)\" : \"z\", \n",
    "                     \"Absolute acceleration (m/s^2)\" : \"abs\"})\n",
    "\n",
    "walk = walk.rename(columns={\"Time (s)\" : \"time\", \"Linear Acceleration x (m/s^2)\" : \"x\", \n",
    "                     \"Linear Acceleration y (m/s^2)\" : \"y\", \"Linear Acceleration z (m/s^2)\" : \"z\", \n",
    "                     \"Absolute acceleration (m/s^2)\" : \"abs\"})\n",
    "\n",
    "both = both.rename(columns={\"Time (s)\" : \"time\", \"Linear Acceleration x (m/s^2)\" : \"x\", \n",
    "                     \"Linear Acceleration y (m/s^2)\" : \"y\", \"Linear Acceleration z (m/s^2)\" : \"z\", \n",
    "                     \"Absolute acceleration (m/s^2)\" : \"abs\"})\n",
    "\n",
    "\n",
    "window_size = 50  # Choose an appropriate window size\n",
    "\n",
    "# Calculate the moving average for each axis\n",
    "filtered_xj = jump['x'].rolling(window=window_size, center=True).mean()\n",
    "filtered_yj = jump['y'].rolling(window=window_size, center=True).mean()\n",
    "filtered_zj = jump['z'].rolling(window=window_size, center=True).mean()\n",
    "filtered_absj = jump['abs'].rolling(window=window_size, center=True).mean()\n",
    "\n",
    "filtered_xw = walk['x'].rolling(window=window_size, center=True).mean()\n",
    "filtered_yw = walk['y'].rolling(window=window_size, center=True).mean()\n",
    "filtered_zw = walk['z'].rolling(window=window_size, center=True).mean()\n",
    "filtered_absw = walk['abs'].rolling(window=window_size, center=True).mean()\n",
    "\n",
    "# Combine filtered acceleration data with time into a new dataframe\n",
    "filtered_data = pd.DataFrame({'time': jump['time'], 'x': filtered_xj, 'y': filtered_yj, 'z': filtered_zj, 'abs': filtered_absj})\n",
    "filtered_data.dropna(inplace=True)  # Remove rows with NaN values due to the moving average calculation\n",
    "\n",
    "\n",
    "filtered_data = pd.DataFrame({'time': walk['time'], 'x': filtered_xw, 'y': filtered_yw, 'z': filtered_zw, 'abs': filtered_absw})\n",
    "filtered_data.dropna(inplace=True) \n"
   ]
  }
 ],
 "metadata": {
  "kernelspec": {
   "display_name": "Python 3",
   "language": "python",
   "name": "python3"
  },
  "language_info": {
   "codemirror_mode": {
    "name": "ipython",
    "version": 3
   },
   "file_extension": ".py",
   "mimetype": "text/x-python",
   "name": "python",
   "nbconvert_exporter": "python",
   "pygments_lexer": "ipython3",
   "version": "3.10.8"
  },
  "orig_nbformat": 4
 },
 "nbformat": 4,
 "nbformat_minor": 2
}
