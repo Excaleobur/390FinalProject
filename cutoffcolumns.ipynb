{
 "cells": [
  {
   "cell_type": "code",
   "execution_count": 1,
   "metadata": {},
   "outputs": [],
   "source": [
    "import pandas as pd\n",
    "\n",
    "\n",
    "df = pd.read_csv('allJump.csv')\n",
    "dg = pd.read_csv('allWalk.csv')\n",
    "dh = pd.read_csv('datasetOverall.csv')\n",
    "\n",
    "# rows , columns\n",
    "df = df.iloc[:, 2:]\n",
    "dg = dg.iloc[:, 2:]\n",
    "dh = dh.iloc[:, 2:]\n",
    "\n",
    "\n",
    "df.to_csv('allJump.csv', index=False)\n",
    "dg.to_csv('allWalk.csv', index=False)\n",
    "dh.to_csv('datasetOverall.csv', index=False)"
   ]
  }
 ],
 "metadata": {
  "kernelspec": {
   "display_name": "Python 3",
   "language": "python",
   "name": "python3"
  },
  "language_info": {
   "codemirror_mode": {
    "name": "ipython",
    "version": 3
   },
   "file_extension": ".py",
   "mimetype": "text/x-python",
   "name": "python",
   "nbconvert_exporter": "python",
   "pygments_lexer": "ipython3",
   "version": "3.10.8"
  },
  "orig_nbformat": 4
 },
 "nbformat": 4,
 "nbformat_minor": 2
}
