{
 "cells": [
  {
   "cell_type": "code",
   "execution_count": 1,
   "metadata": {},
   "outputs": [],
   "source": [
    "import pandas as pd"
   ]
  },
  {
   "cell_type": "code",
   "execution_count": 4,
   "metadata": {},
   "outputs": [],
   "source": [
    "# #import csv file and read it\n",
    "\n",
    "# df = pd.read_csv(\"LeoWalkingData\\walking1.csv\")\n",
    "\n",
    "# #print first 10 lines of df\n",
    "# print(df.head(10))\n",
    "\n",
    "# read the CSV files into dataframes\n",
    "df1 = pd.read_csv(\"LeoWalkingData\\walking1.csv\")\n",
    "df2 = pd.read_csv(\"LeoWalkingData\\walking2.csv\")\n",
    "df3 = pd.read_csv(\"LeoWalkingData\\walking3.csv\")\n",
    "\n",
    "# concatenate the dataframes vertically\n",
    "merged_df = pd.concat([df1, df2, df3], axis=0)\n",
    "\n",
    "merged_df.to_csv('AllWalking.csv', index=False)\n",
    "\n"
   ]
  }
 ],
 "metadata": {
  "kernelspec": {
   "display_name": "Python 3",
   "language": "python",
   "name": "python3"
  },
  "language_info": {
   "codemirror_mode": {
    "name": "ipython",
    "version": 3
   },
   "file_extension": ".py",
   "mimetype": "text/x-python",
   "name": "python",
   "nbconvert_exporter": "python",
   "pygments_lexer": "ipython3",
   "version": "3.10.8"
  },
  "orig_nbformat": 4
 },
 "nbformat": 4,
 "nbformat_minor": 2
}
