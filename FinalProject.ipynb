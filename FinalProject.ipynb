{
 "cells": [
  {
   "cell_type": "code",
   "execution_count": 1,
   "metadata": {},
   "outputs": [],
   "source": [
    "import pandas as pd"
   ]
  },
  {
   "cell_type": "code",
   "execution_count": 9,
   "metadata": {},
   "outputs": [],
   "source": [
    "#Read in the data\n",
    "df = pd.read_csv(\"AllWalking.csv\")\n",
    "df = pd.read_csv(\"AllJumping.csv\")\n",
    "\n",
    "#raw data goes into Member 1-3, processed / machine learning ready data goes to dataset"
   ]
  }
 ],
 "metadata": {
  "kernelspec": {
   "display_name": "Python 3",
   "language": "python",
   "name": "python3"
  },
  "language_info": {
   "codemirror_mode": {
    "name": "ipython",
    "version": 3
   },
   "file_extension": ".py",
   "mimetype": "text/x-python",
   "name": "python",
   "nbconvert_exporter": "python",
   "pygments_lexer": "ipython3",
   "version": "3.10.8"
  },
  "orig_nbformat": 4,
  "vscode": {
   "interpreter": {
    "hash": "9039dcc8539a3cc3f99116a95e5058518103ea93eacfe57b383e82172a46a631"
   }
  }
 },
 "nbformat": 4,
 "nbformat_minor": 2
}
